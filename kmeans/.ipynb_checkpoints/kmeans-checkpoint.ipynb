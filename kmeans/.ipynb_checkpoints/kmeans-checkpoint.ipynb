{
 "metadata": {
  "name": "",
  "signature": "sha256:e89cfaabf5f582cbc27068301ecfd81564771ddc15bdb9dd9a9972bea31d663e"
 },
 "nbformat": 3,
 "nbformat_minor": 0,
 "worksheets": [
  {
   "cells": [
    {
     "cell_type": "code",
     "collapsed": false,
     "input": [
      "import numpy as np\n",
      "import matplotlib.pyplot as plt\n",
      "from mpl_toolkits.mplot3d import Axes3D\n",
      "import matplotlib as mpl\n",
      "%matplotlib inline\n",
      "import Image\n",
      "\n",
      "np.set_printoptions(precision=4)"
     ],
     "language": "python",
     "metadata": {},
     "outputs": []
    },
    {
     "cell_type": "code",
     "collapsed": false,
     "input": [
      "image_name = \"motorcycle.jpg\"\n",
      "img = Image.open(image_name)\n",
      "print img\n",
      "plt.imshow(img)"
     ],
     "language": "python",
     "metadata": {},
     "outputs": []
    },
    {
     "cell_type": "code",
     "collapsed": false,
     "input": [
      "# Scale down the image.\n",
      "img.thumbnail((50, 50)) # Default resizing using nearest approch. (bilinear or bicubic)\n",
      "\n",
      "# Load image into array h x w x RGB\n",
      "data = np.array(img)\n",
      "# Reshape to one dimentional array\n",
      "data = np.reshape(data, (data.shape[1] * data.shape[0], 3))"
     ],
     "language": "python",
     "metadata": {},
     "outputs": []
    },
    {
     "cell_type": "code",
     "collapsed": false,
     "input": [
      "fig = plt.figure()\n",
      "ax = fig.add_subplot(111, projection = '3d')\n",
      "\n",
      "Rx = []\n",
      "Gy = []\n",
      "Bz = []\n",
      "\n",
      "for pixel in data:\n",
      "    Rx.append(pixel[0])\n",
      "    Gy.append(pixel[1])\n",
      "    Bz.append(pixel[2])\n",
      "ax.scatter(Rx, Gy, Bz, zdir='z', c = 'b', marker = 'x')\n",
      "Rx = []\n",
      "Gy = []\n",
      "Bz = []\n",
      "\n",
      "ax.set_xlabel('Red')\n",
      "ax.set_xlim([0,256])\n",
      "ax.set_ylabel('Green')\n",
      "ax.set_ylim([0,256])\n",
      "ax.set_zlabel('Blue')\n",
      "ax.set_zlim([0,256])\n",
      "\n",
      "plt.show()"
     ],
     "language": "python",
     "metadata": {},
     "outputs": []
    },
    {
     "cell_type": "code",
     "collapsed": false,
     "input": [
      "klust = 6\n",
      "img = Image.open(image_name)\n",
      "data = np.array(img)\n",
      "data = np.reshape(data, (data.shape[1] * data.shape[0], 3))\n",
      "ncenters = (np.random.rand(3, klust) * 256)\n",
      "ocenters = np.zeros(ncenters.shape)\n",
      "sub = np.subtract(ncenters, ocenters)\n",
      "while int(np.sum(sub)) != 0:\n",
      "    ocenters = ncenters.copy()\n",
      "    sqrt_err = np.array([((data - ncenters[:,i])**2).sum(axis=1) for i in range(klust)])\n",
      "    labels = np.argmin(sqrt_err, axis=0)\n",
      "    for j in range(klust):\n",
      "        cond = np.array([(labels == j) for each in range(3)], np.int32).transpose()\n",
      "        moment = np.multiply(data, cond)\n",
      "        moment = np.sum(moment, axis=0)\n",
      "        mass = np.sum(cond, axis=0)[0] + 0.1\n",
      "        ncenters[:,j] = np.divide(moment, mass)\n",
      "    sub = np.subtract(ncenters, ocenters)\n",
      "        \n",
      "colors = []\n",
      "for each in ncenters.T:\n",
      "    colors.append((each[0] / 256, each[1] / 256, each[2] / 256))\n",
      "cmap = mpl.colors.ListedColormap(colors)\n",
      "\n",
      "fig = plt.figure(figsize=(8,3))\n",
      "ax = fig.add_axes([0, 0, 2, 0.15])\n",
      "cb = mpl.colorbar.ColorbarBase(ax, cmap = cmap, spacing = 'proportional', orientation = 'horizontal')\n",
      "plt.show()"
     ],
     "language": "python",
     "metadata": {},
     "outputs": []
    },
    {
     "cell_type": "code",
     "collapsed": false,
     "input": [
      "img = Image.open(image_name)\n",
      "\n",
      "# Load image into array h x w x RGB\n",
      "data = np.array(img)\n",
      "print data.shape\n",
      "print data"
     ],
     "language": "python",
     "metadata": {},
     "outputs": []
    },
    {
     "cell_type": "code",
     "collapsed": false,
     "input": [
      "data = np.reshape(data, (data.shape[1] * data.shape[0], 3))\n",
      "print data.shape\n",
      "print data"
     ],
     "language": "python",
     "metadata": {},
     "outputs": []
    },
    {
     "cell_type": "code",
     "collapsed": false,
     "input": [
      "klust = 6\n",
      "# Produce a matrix 3 x k with random values 0 - 256 not including 256.\n",
      "ncenters = (np.random.rand(3, klust) * 256)\n",
      "print ocenters.shape\n",
      "print ocenters"
     ],
     "language": "python",
     "metadata": {},
     "outputs": []
    },
    {
     "cell_type": "code",
     "collapsed": false,
     "input": [
      "ocenters = ncenters.copy()\n",
      "print ((data - ncenters[:,0])**2).sum(axis=1)"
     ],
     "language": "python",
     "metadata": {},
     "outputs": []
    },
    {
     "cell_type": "code",
     "collapsed": false,
     "input": [
      "sqrt_err = np.array([((data - ncenters[:,i])**2).sum(axis=1) for i in range(klust)])\n",
      "print sqrt_err.shape\n",
      "print sqrt_err"
     ],
     "language": "python",
     "metadata": {},
     "outputs": []
    },
    {
     "cell_type": "code",
     "collapsed": false,
     "input": [
      "labels = np.argmin(sqrt_err, axis=0)\n",
      "print labels.shape\n",
      "print labels"
     ],
     "language": "python",
     "metadata": {},
     "outputs": []
    },
    {
     "cell_type": "code",
     "collapsed": false,
     "input": [
      "cond = np.array([(labels == 1) for i in range(3)], np.int32).transpose()\n",
      "print cond.shape\n",
      "print cond"
     ],
     "language": "python",
     "metadata": {},
     "outputs": []
    },
    {
     "cell_type": "code",
     "collapsed": false,
     "input": [
      "moment = np.multiply(data, cond)\n",
      "print moment\n",
      "moment = np.sum(moment, axis=0)\n",
      "print moment"
     ],
     "language": "python",
     "metadata": {},
     "outputs": []
    },
    {
     "cell_type": "code",
     "collapsed": false,
     "input": [
      "mass = np.sum(cond, axis=0)[0]\n",
      "print mass"
     ],
     "language": "python",
     "metadata": {},
     "outputs": []
    },
    {
     "cell_type": "code",
     "collapsed": false,
     "input": [
      "print np.divide(moment, mass)"
     ],
     "language": "python",
     "metadata": {},
     "outputs": []
    },
    {
     "cell_type": "code",
     "collapsed": false,
     "input": [
      "for j in range(klust):\n",
      "    cond = np.array([(labels == j) for each in range(3)], np.int32).transpose()\n",
      "    moment = np.multiply(data, cond)\n",
      "    moment = np.sum(moment, axis=0)\n",
      "    mass = np.sum(cond, axis=0)[0] + 0.1\n",
      "    ncenters[:,j] = np.divide(moment, mass)\n",
      "    \n",
      "print ncenters"
     ],
     "language": "python",
     "metadata": {},
     "outputs": []
    },
    {
     "cell_type": "code",
     "collapsed": false,
     "input": [
      "print ocenters\n",
      "print ncenters\n",
      "sub = np.subtract(ncenters, ocenters)\n",
      "print sub\n",
      "print int(np.sum(np.abs(sub)))"
     ],
     "language": "python",
     "metadata": {},
     "outputs": []
    },
    {
     "cell_type": "code",
     "collapsed": false,
     "input": [
      "klust = 6\n",
      "ncenters = (np.random.rand(3, klust) * 256)"
     ],
     "language": "python",
     "metadata": {},
     "outputs": []
    },
    {
     "cell_type": "code",
     "collapsed": false,
     "input": [
      "ocenters = ncenters.copy()\n",
      "sqrt_err = np.array([((data - ncenters[:,i])**2).sum(axis=1) for i in range(klust)])\n",
      "labels = np.argmin(sqrt_err, axis=0)\n",
      "for j in range(klust):\n",
      "    cond = np.array([(labels == j) for each in range(3)], np.int32).transpose()\n",
      "    moment = np.multiply(data, cond)\n",
      "    moment = np.sum(moment, axis=0)\n",
      "    mass = np.sum(cond, axis=0)[0] + 0.1\n",
      "    ncenters[:,j] = np.divide(moment, mass)"
     ],
     "language": "python",
     "metadata": {},
     "outputs": []
    },
    {
     "cell_type": "code",
     "collapsed": false,
     "input": [
      "print ocenters\n",
      "print ncenters\n",
      "sub = np.subtract(ncenters, ocenters)\n",
      "print sub\n",
      "print int(np.sum(np.abs(sub)))"
     ],
     "language": "python",
     "metadata": {},
     "outputs": []
    },
    {
     "cell_type": "code",
     "collapsed": false,
     "input": [
      "colors = []\n",
      "for each in ncenters.T:\n",
      "    colors.append((each[0] / 256, each[1] / 256, each[2] / 256))\n",
      "cmap = mpl.colors.ListedColormap(colors)\n",
      "\n",
      "fig = plt.figure(figsize=(8,3))\n",
      "ax = fig.add_axes([0, 0, 2, 0.15])\n",
      "cb = mpl.colorbar.ColorbarBase(ax, \n",
      "                                cmap = cmap,\n",
      "                                spacing = 'proportional', \n",
      "                                orientation = 'horizontal')\n",
      "plt.show()"
     ],
     "language": "python",
     "metadata": {},
     "outputs": []
    }
   ],
   "metadata": {}
  }
 ]
}